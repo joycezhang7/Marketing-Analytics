{
 "cells": [
  {
   "cell_type": "code",
   "execution_count": null,
   "metadata": {},
   "outputs": [],
   "source": [
    "import gc\n",
    "gc.collect()"
   ]
  },
  {
   "cell_type": "code",
   "execution_count": null,
   "metadata": {},
   "outputs": [],
   "source": [
    "import pandas as pd\n",
    "import numpy as np\n",
    "# import tables\n",
    "trans = pd.read_csv(\"C:\\\\Users\\\\Joyce\\\\OneDrive - Emory University\\\\Desktop\\\\Emory MSBA\\\\Marketing Analytics\\\\Team 8-Project1\\\\Pernalonga\\\\transaction_table.csv\")\n",
    "product = pd.read_csv(\"C:\\\\Users\\\\Joyce\\\\OneDrive - Emory University\\\\Desktop\\\\Emory MSBA\\\\Marketing Analytics\\\\Team 8-Project1\\\\Pernalonga\\\\product_table.csv\")\n",
    "\n",
    "# join trans and product tables based on \"prod_id\"\n",
    "all_df = pd.merge(trans,product, on ='prod_id')\n",
    "all_df['total_promo'] = all_df['tran_prod_sale_amt'] - all_df['tran_prod_paid_amt']\n",
    "all_df['promo_prop'] = all_df['tran_prod_offer_cts'] / all_df['tran_prod_sale_qty']\n",
    "all_df.to_csv('all_df.csv',index=False)"
   ]
  },
  {
   "cell_type": "code",
   "execution_count": null,
   "metadata": {},
   "outputs": [],
   "source": [
    "# create unique Identifier based on customer and transaction date\n",
    "import pandas as pd\n",
    "import numpy as np\n",
    "all_df = pd.read_csv(\"C:\\\\Users\\\\Joyce\\\\OneDrive - Emory University\\\\Desktop\\\\Emory MSBA\\\\Marketing Analytics\\\\Team 8-Project1\\\\all_df.csv\")\n",
    "all_df['id'] = all_df.groupby(['cust_id','tran_dt']).ngroup()"
   ]
  },
  {
   "cell_type": "code",
   "execution_count": null,
   "metadata": {},
   "outputs": [],
   "source": [
    "discount = all_df.groupby(['cust_id']).agg({'promo_prop':'mean'})\n",
    "discount = discount.rename(columns = {'promo_prop':\n",
    "                                     'avg_discount_prop'})\n",
    "conditions = [\n",
    "    (discount['avg_discount_prop'] <=0.2),\n",
    "    (discount['avg_discount_prop'] >0.2) & (discount['avg_discount_prop'] < 0.45),\n",
    "    (discount['avg_discount_prop'] >= 0.45)\n",
    "]\n",
    "\n",
    "# create a list of the values we want to assign for each condition\n",
    "values = ['most_valuable', 'normal', 'cherry_picker']\n",
    "\n",
    "# create a new column and use np.select to assign values to it using our lists as arguments\n",
    "discount['cust_category'] = np.select(conditions, values)\n",
    "\n",
    "all_new = pd.merge(all_df,discount, on='cust_id')\n",
    "#dummy = pd.get_dummies(all_new['cust_category'])\n",
    "#all_new = pd.concat([all_new,dummy],axis=1)\n",
    "all_new.to_csv('all_new.csv',index=False)"
   ]
  }
 ],
 "metadata": {
  "kernelspec": {
   "display_name": "Python 3",
   "language": "python",
   "name": "python3"
  },
  "language_info": {
   "codemirror_mode": {
    "name": "ipython",
    "version": 3
   },
   "file_extension": ".py",
   "mimetype": "text/x-python",
   "name": "python",
   "nbconvert_exporter": "python",
   "pygments_lexer": "ipython3",
   "version": "3.7.3"
  }
 },
 "nbformat": 4,
 "nbformat_minor": 4
}
